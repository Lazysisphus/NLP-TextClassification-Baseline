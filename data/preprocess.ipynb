{
 "cells": [
  {
   "cell_type": "code",
   "execution_count": 1,
   "metadata": {},
   "outputs": [],
   "source": [
    "import pandas as pd\n",
    "import numpy as np\n",
    "from nltk import word_tokenize"
   ]
  },
  {
   "cell_type": "markdown",
   "metadata": {},
   "source": [
    "# 1.处理训练集并统计平均句子长度"
   ]
  },
  {
   "cell_type": "code",
   "execution_count": 2,
   "metadata": {},
   "outputs": [
    {
     "output_type": "execute_result",
     "data": {
      "text/plain": "                                            sentence  label  \\\n0             , no matter how degraded things get .       0   \n1                     as the protagonists struggled       0   \n2  `` frailty '' offers chills much like those th...      1   \n3                      wonderfully warm human drama       1   \n4  vaguely interesting , but it 's just too too m...      0   \n\n                                             sen_cut  sen_len  \n0     [,, no, matter, how, degraded, things, get, .]        8  \n1                 [as, the, protagonists, struggled]        4  \n2  [``, frailty, ``, offers, chills, much, like, ...       29  \n3                  [wonderfully, warm, human, drama]        4  \n4  [vaguely, interesting, ,, but, it, 's, just, t...       11  ",
      "text/html": "<div>\n<style scoped>\n    .dataframe tbody tr th:only-of-type {\n        vertical-align: middle;\n    }\n\n    .dataframe tbody tr th {\n        vertical-align: top;\n    }\n\n    .dataframe thead th {\n        text-align: right;\n    }\n</style>\n<table border=\"1\" class=\"dataframe\">\n  <thead>\n    <tr style=\"text-align: right;\">\n      <th></th>\n      <th>sentence</th>\n      <th>label</th>\n      <th>sen_cut</th>\n      <th>sen_len</th>\n    </tr>\n  </thead>\n  <tbody>\n    <tr>\n      <th>0</th>\n      <td>, no matter how degraded things get .</td>\n      <td>0</td>\n      <td>[,, no, matter, how, degraded, things, get, .]</td>\n      <td>8</td>\n    </tr>\n    <tr>\n      <th>1</th>\n      <td>as the protagonists struggled</td>\n      <td>0</td>\n      <td>[as, the, protagonists, struggled]</td>\n      <td>4</td>\n    </tr>\n    <tr>\n      <th>2</th>\n      <td>`` frailty '' offers chills much like those th...</td>\n      <td>1</td>\n      <td>[``, frailty, ``, offers, chills, much, like, ...</td>\n      <td>29</td>\n    </tr>\n    <tr>\n      <th>3</th>\n      <td>wonderfully warm human drama</td>\n      <td>1</td>\n      <td>[wonderfully, warm, human, drama]</td>\n      <td>4</td>\n    </tr>\n    <tr>\n      <th>4</th>\n      <td>vaguely interesting , but it 's just too too m...</td>\n      <td>0</td>\n      <td>[vaguely, interesting, ,, but, it, 's, just, t...</td>\n      <td>11</td>\n    </tr>\n  </tbody>\n</table>\n</div>"
     },
     "metadata": {},
     "execution_count": 2
    }
   ],
   "source": [
    "train = pd.read_csv(\"train.tsv\", sep='\\t', encoding=\"utf-8\")\n",
    "train[\"sen_cut\"] = train[\"sentence\"].apply(word_tokenize)\n",
    "train[\"sen_len\"] = train[\"sen_cut\"].apply(len)\n",
    "train.to_pickle(\"train.pkl\")\n",
    "train.head()"
   ]
  },
  {
   "cell_type": "code",
   "execution_count": 3,
   "metadata": {},
   "outputs": [
    {
     "output_type": "execute_result",
     "data": {
      "text/plain": "65328"
     },
     "metadata": {},
     "execution_count": 3
    }
   ],
   "source": [
    "len(train)"
   ]
  },
  {
   "cell_type": "code",
   "execution_count": 4,
   "metadata": {},
   "outputs": [
    {
     "output_type": "execute_result",
     "data": {
      "text/plain": "9.405920891501347"
     },
     "metadata": {},
     "execution_count": 4
    }
   ],
   "source": [
    "train_avg = np.average(train[\"sen_len\"].tolist())\n",
    "train_avg"
   ]
  },
  {
   "cell_type": "markdown",
   "metadata": {},
   "source": [
    "# 2.处理验证集并统计句子平均长度"
   ]
  },
  {
   "cell_type": "code",
   "execution_count": 5,
   "metadata": {},
   "outputs": [
    {
     "output_type": "execute_result",
     "data": {
      "text/plain": "                                            sentence  label  \\\n0    it 's a charming and often affecting journey .       1   \n1                 unflinchingly bleak and desperate       0   \n2  allows us to hope that nolan is poised to emba...      1   \n3  the acting , costumes , music , cinematography...      1   \n4                  it 's slow -- very , very slow .       0   \n\n                                             sen_cut  sen_len  \n0  [it, 's, a, charming, and, often, affecting, j...        9  \n1             [unflinchingly, bleak, and, desperate]        4  \n2  [allows, us, to, hope, that, nolan, is, poised...       20  \n3  [the, acting, ,, costumes, ,, music, ,, cinema...       20  \n4         [it, 's, slow, --, very, ,, very, slow, .]        9  ",
      "text/html": "<div>\n<style scoped>\n    .dataframe tbody tr th:only-of-type {\n        vertical-align: middle;\n    }\n\n    .dataframe tbody tr th {\n        vertical-align: top;\n    }\n\n    .dataframe thead th {\n        text-align: right;\n    }\n</style>\n<table border=\"1\" class=\"dataframe\">\n  <thead>\n    <tr style=\"text-align: right;\">\n      <th></th>\n      <th>sentence</th>\n      <th>label</th>\n      <th>sen_cut</th>\n      <th>sen_len</th>\n    </tr>\n  </thead>\n  <tbody>\n    <tr>\n      <th>0</th>\n      <td>it 's a charming and often affecting journey .</td>\n      <td>1</td>\n      <td>[it, 's, a, charming, and, often, affecting, j...</td>\n      <td>9</td>\n    </tr>\n    <tr>\n      <th>1</th>\n      <td>unflinchingly bleak and desperate</td>\n      <td>0</td>\n      <td>[unflinchingly, bleak, and, desperate]</td>\n      <td>4</td>\n    </tr>\n    <tr>\n      <th>2</th>\n      <td>allows us to hope that nolan is poised to emba...</td>\n      <td>1</td>\n      <td>[allows, us, to, hope, that, nolan, is, poised...</td>\n      <td>20</td>\n    </tr>\n    <tr>\n      <th>3</th>\n      <td>the acting , costumes , music , cinematography...</td>\n      <td>1</td>\n      <td>[the, acting, ,, costumes, ,, music, ,, cinema...</td>\n      <td>20</td>\n    </tr>\n    <tr>\n      <th>4</th>\n      <td>it 's slow -- very , very slow .</td>\n      <td>0</td>\n      <td>[it, 's, slow, --, very, ,, very, slow, .]</td>\n      <td>9</td>\n    </tr>\n  </tbody>\n</table>\n</div>"
     },
     "metadata": {},
     "execution_count": 5
    }
   ],
   "source": [
    "dev = pd.read_csv(\"dev.tsv\", sep='\\t', encoding=\"utf-8\")\n",
    "dev[\"sen_cut\"] = dev[\"sentence\"].apply(word_tokenize)\n",
    "dev[\"sen_len\"] = dev[\"sen_cut\"].apply(len)\n",
    "dev.to_pickle(\"dev.pkl\")\n",
    "dev.head()"
   ]
  },
  {
   "cell_type": "code",
   "execution_count": 6,
   "metadata": {},
   "outputs": [
    {
     "output_type": "execute_result",
     "data": {
      "text/plain": "872"
     },
     "metadata": {},
     "execution_count": 6
    }
   ],
   "source": [
    "len(dev)"
   ]
  },
  {
   "cell_type": "code",
   "execution_count": 7,
   "metadata": {},
   "outputs": [
    {
     "output_type": "execute_result",
     "data": {
      "text/plain": "19.55504587155963"
     },
     "metadata": {},
     "execution_count": 7
    }
   ],
   "source": [
    "dev_avg = np.average(dev[\"sen_len\"].tolist())\n",
    "dev_avg"
   ]
  },
  {
   "cell_type": "markdown",
   "metadata": {},
   "source": [
    "# 3.处理测试集并统计句子平均长度"
   ]
  },
  {
   "cell_type": "code",
   "execution_count": 8,
   "metadata": {},
   "outputs": [
    {
     "output_type": "execute_result",
     "data": {
      "text/plain": "                                            sentence  label  \\\n0  interview with the assassin is structured less...      0   \n1  a superfluous sequel ... plagued by that old f...      0   \n2  shrewd enough to activate girlish tear ducts d...      0   \n3                                 in chilling style       1   \n4                                     more confused       0   \n\n                                             sen_cut  sen_len  \n0  [interview, with, the, assassin, is, structure...       33  \n1  [a, superfluous, sequel, ..., plagued, by, tha...       20  \n2  [shrewd, enough, to, activate, girlish, tear, ...       17  \n3                              [in, chilling, style]        3  \n4                                   [more, confused]        2  ",
      "text/html": "<div>\n<style scoped>\n    .dataframe tbody tr th:only-of-type {\n        vertical-align: middle;\n    }\n\n    .dataframe tbody tr th {\n        vertical-align: top;\n    }\n\n    .dataframe thead th {\n        text-align: right;\n    }\n</style>\n<table border=\"1\" class=\"dataframe\">\n  <thead>\n    <tr style=\"text-align: right;\">\n      <th></th>\n      <th>sentence</th>\n      <th>label</th>\n      <th>sen_cut</th>\n      <th>sen_len</th>\n    </tr>\n  </thead>\n  <tbody>\n    <tr>\n      <th>0</th>\n      <td>interview with the assassin is structured less...</td>\n      <td>0</td>\n      <td>[interview, with, the, assassin, is, structure...</td>\n      <td>33</td>\n    </tr>\n    <tr>\n      <th>1</th>\n      <td>a superfluous sequel ... plagued by that old f...</td>\n      <td>0</td>\n      <td>[a, superfluous, sequel, ..., plagued, by, tha...</td>\n      <td>20</td>\n    </tr>\n    <tr>\n      <th>2</th>\n      <td>shrewd enough to activate girlish tear ducts d...</td>\n      <td>0</td>\n      <td>[shrewd, enough, to, activate, girlish, tear, ...</td>\n      <td>17</td>\n    </tr>\n    <tr>\n      <th>3</th>\n      <td>in chilling style</td>\n      <td>1</td>\n      <td>[in, chilling, style]</td>\n      <td>3</td>\n    </tr>\n    <tr>\n      <th>4</th>\n      <td>more confused</td>\n      <td>0</td>\n      <td>[more, confused]</td>\n      <td>2</td>\n    </tr>\n  </tbody>\n</table>\n</div>"
     },
     "metadata": {},
     "execution_count": 8
    }
   ],
   "source": [
    "test = pd.read_csv(\"test.tsv\", sep='\\t', encoding=\"utf-8\")\n",
    "test[\"sen_cut\"] = test[\"sentence\"].apply(word_tokenize)\n",
    "test[\"sen_len\"] = test[\"sen_cut\"].apply(len)\n",
    "test.to_pickle(\"test.pkl\")\n",
    "test.head()"
   ]
  },
  {
   "cell_type": "code",
   "execution_count": 9,
   "metadata": {},
   "outputs": [
    {
     "output_type": "execute_result",
     "data": {
      "text/plain": "2021"
     },
     "metadata": {},
     "execution_count": 9
    }
   ],
   "source": [
    "len(test)"
   ]
  },
  {
   "cell_type": "code",
   "execution_count": 10,
   "metadata": {},
   "outputs": [
    {
     "output_type": "execute_result",
     "data": {
      "text/plain": "9.626917367639782"
     },
     "metadata": {},
     "execution_count": 10
    }
   ],
   "source": [
    "test_avg = np.average(test[\"sen_len\"].tolist())\n",
    "test_avg"
   ]
  }
 ],
 "metadata": {
  "language_info": {
   "codemirror_mode": {
    "name": "ipython",
    "version": 3
   },
   "file_extension": ".py",
   "mimetype": "text/x-python",
   "name": "python",
   "nbconvert_exporter": "python",
   "pygments_lexer": "ipython3",
   "version": "3.7.6-final"
  },
  "orig_nbformat": 2,
  "kernelspec": {
   "name": "python3",
   "display_name": "Python 3"
  }
 },
 "nbformat": 4,
 "nbformat_minor": 2
}